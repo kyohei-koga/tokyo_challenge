{
 "cells": [
  {
   "cell_type": "code",
   "execution_count": 3,
   "metadata": {
    "collapsed": true
   },
   "outputs": [],
   "source": [
    "import requests\n",
    "import pandas as pd"
   ]
  },
  {
   "cell_type": "code",
   "execution_count": 101,
   "metadata": {
    "collapsed": false
   },
   "outputs": [],
   "source": [
    "params = {'dc:title':'品川,五反田','acl:consumerKey':'728da1cde08a87b4fa089a0690bd4384634425061f27cfff1e9b7aa9c450cc41'}\n",
    "response = requests.get('https://api-tokyochallenge.odpt.org/api/v4/odpt:Station?',params=params)"
   ]
  },
  {
   "cell_type": "code",
   "execution_count": 102,
   "metadata": {
    "collapsed": false
   },
   "outputs": [
    {
     "data": {
      "text/plain": [
       "200"
      ]
     },
     "execution_count": 102,
     "metadata": {},
     "output_type": "execute_result"
    }
   ],
   "source": [
    "response.status_code"
   ]
  },
  {
   "cell_type": "code",
   "execution_count": 103,
   "metadata": {
    "collapsed": false
   },
   "outputs": [],
   "source": [
    "data = response.json()"
   ]
  },
  {
   "cell_type": "code",
   "execution_count": 104,
   "metadata": {
    "collapsed": false
   },
   "outputs": [
    {
     "data": {
      "text/html": [
       "<div>\n",
       "<table border=\"1\" class=\"dataframe\">\n",
       "  <thead>\n",
       "    <tr style=\"text-align: right;\">\n",
       "      <th></th>\n",
       "      <th>@context</th>\n",
       "      <th>@id</th>\n",
       "      <th>@type</th>\n",
       "      <th>dc:date</th>\n",
       "      <th>dc:title</th>\n",
       "      <th>geo:lat</th>\n",
       "      <th>geo:long</th>\n",
       "      <th>odpt:operator</th>\n",
       "      <th>odpt:railway</th>\n",
       "      <th>odpt:stationCode</th>\n",
       "      <th>owl:sameAs</th>\n",
       "    </tr>\n",
       "  </thead>\n",
       "  <tbody>\n",
       "    <tr>\n",
       "      <th>0</th>\n",
       "      <td>http://vocab.odpt.org/context_odpt.jsonld</td>\n",
       "      <td>urn:ucode:_00001C00000000000001000003102C80</td>\n",
       "      <td>odpt:Station</td>\n",
       "      <td>2017-12-08T13:40:51+09:00</td>\n",
       "      <td>五反田</td>\n",
       "      <td>35.625960</td>\n",
       "      <td>139.723831</td>\n",
       "      <td>odpt.Operator:Toei</td>\n",
       "      <td>odpt.Railway:Toei.Asakusa</td>\n",
       "      <td>A-05</td>\n",
       "      <td>odpt.Station:Toei.Asakusa.Gotanda</td>\n",
       "    </tr>\n",
       "    <tr>\n",
       "      <th>1</th>\n",
       "      <td>http://vocab.odpt.org/context_odpt.jsonld</td>\n",
       "      <td>urn:ucode:_00001C00000000000001000003102373</td>\n",
       "      <td>odpt:Station</td>\n",
       "      <td>2017-12-08T01:10:57+09:00</td>\n",
       "      <td>品川</td>\n",
       "      <td>35.628788</td>\n",
       "      <td>139.738740</td>\n",
       "      <td>odpt.Operator:JR-East</td>\n",
       "      <td>odpt.Railway:JR-East.Joban</td>\n",
       "      <td>NaN</td>\n",
       "      <td>odpt.Station:JR-East.Joban.Shinagawa</td>\n",
       "    </tr>\n",
       "    <tr>\n",
       "      <th>2</th>\n",
       "      <td>http://vocab.odpt.org/context_odpt.jsonld</td>\n",
       "      <td>urn:ucode:_00001C00000000000001000003102634</td>\n",
       "      <td>odpt:Station</td>\n",
       "      <td>2017-12-08T01:10:57+09:00</td>\n",
       "      <td>品川</td>\n",
       "      <td>35.628788</td>\n",
       "      <td>139.738740</td>\n",
       "      <td>odpt.Operator:JR-East</td>\n",
       "      <td>odpt.Railway:JR-East.KeihinTohoku</td>\n",
       "      <td>NaN</td>\n",
       "      <td>odpt.Station:JR-East.KeihinTohoku.Shinagawa</td>\n",
       "    </tr>\n",
       "    <tr>\n",
       "      <th>3</th>\n",
       "      <td>http://vocab.odpt.org/context_odpt.jsonld</td>\n",
       "      <td>urn:ucode:_00001C00000000000001000003102712</td>\n",
       "      <td>odpt:Station</td>\n",
       "      <td>2017-12-08T01:10:57+09:00</td>\n",
       "      <td>品川</td>\n",
       "      <td>35.628788</td>\n",
       "      <td>139.738740</td>\n",
       "      <td>odpt.Operator:JR-East</td>\n",
       "      <td>odpt.Railway:JR-East.JobanRapid</td>\n",
       "      <td>NaN</td>\n",
       "      <td>odpt.Station:JR-East.JobanRapid.Shinagawa</td>\n",
       "    </tr>\n",
       "    <tr>\n",
       "      <th>4</th>\n",
       "      <td>http://vocab.odpt.org/context_odpt.jsonld</td>\n",
       "      <td>urn:ucode:_00001C00000000000001000003102843</td>\n",
       "      <td>odpt:Station</td>\n",
       "      <td>2017-12-08T01:10:57+09:00</td>\n",
       "      <td>品川</td>\n",
       "      <td>35.628788</td>\n",
       "      <td>139.738740</td>\n",
       "      <td>odpt.Operator:JR-East</td>\n",
       "      <td>odpt.Railway:JR-East.Tokaido</td>\n",
       "      <td>NaN</td>\n",
       "      <td>odpt.Station:JR-East.Tokaido.Shinagawa</td>\n",
       "    </tr>\n",
       "    <tr>\n",
       "      <th>5</th>\n",
       "      <td>http://vocab.odpt.org/context_odpt.jsonld</td>\n",
       "      <td>urn:ucode:_00001C000000000000010000031028EB</td>\n",
       "      <td>odpt:Station</td>\n",
       "      <td>2017-12-08T01:10:57+09:00</td>\n",
       "      <td>品川</td>\n",
       "      <td>35.628788</td>\n",
       "      <td>139.738740</td>\n",
       "      <td>odpt.Operator:JR-East</td>\n",
       "      <td>odpt.Railway:JR-East.Yamanote</td>\n",
       "      <td>NaN</td>\n",
       "      <td>odpt.Station:JR-East.Yamanote.Shinagawa</td>\n",
       "    </tr>\n",
       "    <tr>\n",
       "      <th>6</th>\n",
       "      <td>http://vocab.odpt.org/context_odpt.jsonld</td>\n",
       "      <td>urn:ucode:_00001C000000000000010000031028ED</td>\n",
       "      <td>odpt:Station</td>\n",
       "      <td>2017-12-08T01:10:57+09:00</td>\n",
       "      <td>五反田</td>\n",
       "      <td>35.626288</td>\n",
       "      <td>139.723463</td>\n",
       "      <td>odpt.Operator:JR-East</td>\n",
       "      <td>odpt.Railway:JR-East.Yamanote</td>\n",
       "      <td>NaN</td>\n",
       "      <td>odpt.Station:JR-East.Yamanote.Gotanda</td>\n",
       "    </tr>\n",
       "    <tr>\n",
       "      <th>7</th>\n",
       "      <td>http://vocab.odpt.org/context_odpt.jsonld</td>\n",
       "      <td>urn:ucode:_00001C00000000000001000003102905</td>\n",
       "      <td>odpt:Station</td>\n",
       "      <td>2017-12-08T01:10:57+09:00</td>\n",
       "      <td>品川</td>\n",
       "      <td>35.628788</td>\n",
       "      <td>139.738740</td>\n",
       "      <td>odpt.Operator:JR-East</td>\n",
       "      <td>odpt.Railway:JR-East.Yokosuka</td>\n",
       "      <td>NaN</td>\n",
       "      <td>odpt.Station:JR-East.Yokosuka.Shinagawa</td>\n",
       "    </tr>\n",
       "    <tr>\n",
       "      <th>8</th>\n",
       "      <td>http://vocab.odpt.org/context_odpt.jsonld</td>\n",
       "      <td>urn:ucode:_00001C00000000000001000003102A8C</td>\n",
       "      <td>odpt:Station</td>\n",
       "      <td>2017-12-08T01:10:57+09:00</td>\n",
       "      <td>品川</td>\n",
       "      <td>35.628788</td>\n",
       "      <td>139.738740</td>\n",
       "      <td>odpt.Operator:JR-East</td>\n",
       "      <td>odpt.Railway:JR-East.UenoTokyo</td>\n",
       "      <td>NaN</td>\n",
       "      <td>odpt.Station:JR-East.UenoTokyo.Shinagawa</td>\n",
       "    </tr>\n",
       "    <tr>\n",
       "      <th>9</th>\n",
       "      <td>http://vocab.odpt.org/context_odpt.jsonld</td>\n",
       "      <td>urn:ucode:_00001C00000000000001000003102B81</td>\n",
       "      <td>odpt:Station</td>\n",
       "      <td>2017-12-08T13:40:53+09:00</td>\n",
       "      <td>五反田</td>\n",
       "      <td>35.625591</td>\n",
       "      <td>139.724224</td>\n",
       "      <td>odpt.Operator:Tokyu</td>\n",
       "      <td>odpt.Railway:Tokyu.Ikegami</td>\n",
       "      <td>IK1</td>\n",
       "      <td>odpt.Station:Tokyu.Ikegami.Gotanda</td>\n",
       "    </tr>\n",
       "    <tr>\n",
       "      <th>10</th>\n",
       "      <td>http://vocab.odpt.org/context_odpt.jsonld</td>\n",
       "      <td>urn:ucode:_00001C000000000000010000031020EE</td>\n",
       "      <td>odpt:Station</td>\n",
       "      <td>2017-12-08T13:40:51+09:00</td>\n",
       "      <td>品川</td>\n",
       "      <td>35.628240</td>\n",
       "      <td>139.738018</td>\n",
       "      <td>odpt.Operator:Keikyu</td>\n",
       "      <td>odpt.Railway:Keikyu.Main</td>\n",
       "      <td>KK01</td>\n",
       "      <td>odpt.Station:Keikyu.Main.Shinagawa</td>\n",
       "    </tr>\n",
       "  </tbody>\n",
       "</table>\n",
       "</div>"
      ],
      "text/plain": [
       "                                     @context  \\\n",
       "0   http://vocab.odpt.org/context_odpt.jsonld   \n",
       "1   http://vocab.odpt.org/context_odpt.jsonld   \n",
       "2   http://vocab.odpt.org/context_odpt.jsonld   \n",
       "3   http://vocab.odpt.org/context_odpt.jsonld   \n",
       "4   http://vocab.odpt.org/context_odpt.jsonld   \n",
       "5   http://vocab.odpt.org/context_odpt.jsonld   \n",
       "6   http://vocab.odpt.org/context_odpt.jsonld   \n",
       "7   http://vocab.odpt.org/context_odpt.jsonld   \n",
       "8   http://vocab.odpt.org/context_odpt.jsonld   \n",
       "9   http://vocab.odpt.org/context_odpt.jsonld   \n",
       "10  http://vocab.odpt.org/context_odpt.jsonld   \n",
       "\n",
       "                                            @id         @type  \\\n",
       "0   urn:ucode:_00001C00000000000001000003102C80  odpt:Station   \n",
       "1   urn:ucode:_00001C00000000000001000003102373  odpt:Station   \n",
       "2   urn:ucode:_00001C00000000000001000003102634  odpt:Station   \n",
       "3   urn:ucode:_00001C00000000000001000003102712  odpt:Station   \n",
       "4   urn:ucode:_00001C00000000000001000003102843  odpt:Station   \n",
       "5   urn:ucode:_00001C000000000000010000031028EB  odpt:Station   \n",
       "6   urn:ucode:_00001C000000000000010000031028ED  odpt:Station   \n",
       "7   urn:ucode:_00001C00000000000001000003102905  odpt:Station   \n",
       "8   urn:ucode:_00001C00000000000001000003102A8C  odpt:Station   \n",
       "9   urn:ucode:_00001C00000000000001000003102B81  odpt:Station   \n",
       "10  urn:ucode:_00001C000000000000010000031020EE  odpt:Station   \n",
       "\n",
       "                      dc:date dc:title    geo:lat    geo:long  \\\n",
       "0   2017-12-08T13:40:51+09:00      五反田  35.625960  139.723831   \n",
       "1   2017-12-08T01:10:57+09:00       品川  35.628788  139.738740   \n",
       "2   2017-12-08T01:10:57+09:00       品川  35.628788  139.738740   \n",
       "3   2017-12-08T01:10:57+09:00       品川  35.628788  139.738740   \n",
       "4   2017-12-08T01:10:57+09:00       品川  35.628788  139.738740   \n",
       "5   2017-12-08T01:10:57+09:00       品川  35.628788  139.738740   \n",
       "6   2017-12-08T01:10:57+09:00      五反田  35.626288  139.723463   \n",
       "7   2017-12-08T01:10:57+09:00       品川  35.628788  139.738740   \n",
       "8   2017-12-08T01:10:57+09:00       品川  35.628788  139.738740   \n",
       "9   2017-12-08T13:40:53+09:00      五反田  35.625591  139.724224   \n",
       "10  2017-12-08T13:40:51+09:00       品川  35.628240  139.738018   \n",
       "\n",
       "            odpt:operator                       odpt:railway odpt:stationCode  \\\n",
       "0      odpt.Operator:Toei          odpt.Railway:Toei.Asakusa             A-05   \n",
       "1   odpt.Operator:JR-East         odpt.Railway:JR-East.Joban              NaN   \n",
       "2   odpt.Operator:JR-East  odpt.Railway:JR-East.KeihinTohoku              NaN   \n",
       "3   odpt.Operator:JR-East    odpt.Railway:JR-East.JobanRapid              NaN   \n",
       "4   odpt.Operator:JR-East       odpt.Railway:JR-East.Tokaido              NaN   \n",
       "5   odpt.Operator:JR-East      odpt.Railway:JR-East.Yamanote              NaN   \n",
       "6   odpt.Operator:JR-East      odpt.Railway:JR-East.Yamanote              NaN   \n",
       "7   odpt.Operator:JR-East      odpt.Railway:JR-East.Yokosuka              NaN   \n",
       "8   odpt.Operator:JR-East     odpt.Railway:JR-East.UenoTokyo              NaN   \n",
       "9     odpt.Operator:Tokyu         odpt.Railway:Tokyu.Ikegami              IK1   \n",
       "10   odpt.Operator:Keikyu           odpt.Railway:Keikyu.Main             KK01   \n",
       "\n",
       "                                     owl:sameAs  \n",
       "0             odpt.Station:Toei.Asakusa.Gotanda  \n",
       "1          odpt.Station:JR-East.Joban.Shinagawa  \n",
       "2   odpt.Station:JR-East.KeihinTohoku.Shinagawa  \n",
       "3     odpt.Station:JR-East.JobanRapid.Shinagawa  \n",
       "4        odpt.Station:JR-East.Tokaido.Shinagawa  \n",
       "5       odpt.Station:JR-East.Yamanote.Shinagawa  \n",
       "6         odpt.Station:JR-East.Yamanote.Gotanda  \n",
       "7       odpt.Station:JR-East.Yokosuka.Shinagawa  \n",
       "8      odpt.Station:JR-East.UenoTokyo.Shinagawa  \n",
       "9            odpt.Station:Tokyu.Ikegami.Gotanda  \n",
       "10           odpt.Station:Keikyu.Main.Shinagawa  "
      ]
     },
     "execution_count": 104,
     "metadata": {},
     "output_type": "execute_result"
    }
   ],
   "source": [
    "pd.DataFrame(data)"
   ]
  },
  {
   "cell_type": "code",
   "execution_count": 110,
   "metadata": {
    "collapsed": false
   },
   "outputs": [],
   "source": [
    "params = {'acl:consumerKey':'728da1cde08a87b4fa089a0690bd4384634425061f27cfff1e9b7aa9c450cc41','odpt:operator':'odpt.Operator:Tokyu'}\n",
    "response = requests.get('https://api-tokyochallenge.odpt.org/api/v4/odpt:PassengerSurvey?',params=params)"
   ]
  },
  {
   "cell_type": "code",
   "execution_count": 112,
   "metadata": {
    "collapsed": false
   },
   "outputs": [
    {
     "data": {
      "text/html": [
       "<div>\n",
       "<table border=\"1\" class=\"dataframe\">\n",
       "  <thead>\n",
       "    <tr style=\"text-align: right;\">\n",
       "      <th></th>\n",
       "      <th>@context</th>\n",
       "      <th>@id</th>\n",
       "      <th>@type</th>\n",
       "      <th>dc:date</th>\n",
       "      <th>odpt:operator</th>\n",
       "      <th>odpt:passengerJourneys</th>\n",
       "      <th>odpt:railway</th>\n",
       "      <th>odpt:station</th>\n",
       "      <th>odpt:surveyYear</th>\n",
       "      <th>owl:sameAs</th>\n",
       "    </tr>\n",
       "  </thead>\n",
       "  <tbody>\n",
       "    <tr>\n",
       "      <th>0</th>\n",
       "      <td>http://vocab.odpt.org/context_odpt.jsonld</td>\n",
       "      <td>urn:ucode:_00001C000000000000010000030E6637</td>\n",
       "      <td>odpt:PassengerSurvey</td>\n",
       "      <td>2016-06-24T15:09:57+09:00</td>\n",
       "      <td>odpt.Operator:Tokyu</td>\n",
       "      <td>99302</td>\n",
       "      <td>[odpt.Railway:Tokyu.Toyoko]</td>\n",
       "      <td>[odpt.Station:Tokyu.Toyoko.Tsunashima]</td>\n",
       "      <td>2008</td>\n",
       "      <td>odpt.PassengerSurvey:Tokyu.Tsunashima.2008</td>\n",
       "    </tr>\n",
       "    <tr>\n",
       "      <th>1</th>\n",
       "      <td>http://vocab.odpt.org/context_odpt.jsonld</td>\n",
       "      <td>urn:ucode:_00001C000000000000010000030E6638</td>\n",
       "      <td>odpt:PassengerSurvey</td>\n",
       "      <td>2016-06-24T15:09:57+09:00</td>\n",
       "      <td>odpt.Operator:Tokyu</td>\n",
       "      <td>127268</td>\n",
       "      <td>[odpt.Railway:Tokyu.Toyoko]</td>\n",
       "      <td>[odpt.Station:Tokyu.Toyoko.Kikuna]</td>\n",
       "      <td>2008</td>\n",
       "      <td>odpt.PassengerSurvey:Tokyu.Kikuna.2008</td>\n",
       "    </tr>\n",
       "    <tr>\n",
       "      <th>2</th>\n",
       "      <td>http://vocab.odpt.org/context_odpt.jsonld</td>\n",
       "      <td>urn:ucode:_00001C000000000000010000030E663A</td>\n",
       "      <td>odpt:PassengerSurvey</td>\n",
       "      <td>2016-06-24T15:09:57+09:00</td>\n",
       "      <td>odpt.Operator:Tokyu</td>\n",
       "      <td>13078</td>\n",
       "      <td>[odpt.Railway:Tokyu.Toyoko]</td>\n",
       "      <td>[odpt.Station:Tokyu.Toyoko.HigashiHakuraku]</td>\n",
       "      <td>2008</td>\n",
       "      <td>odpt.PassengerSurvey:Tokyu.HigashiHakuraku.2008</td>\n",
       "    </tr>\n",
       "    <tr>\n",
       "      <th>3</th>\n",
       "      <td>http://vocab.odpt.org/context_odpt.jsonld</td>\n",
       "      <td>urn:ucode:_00001C000000000000010000030E663C</td>\n",
       "      <td>odpt:PassengerSurvey</td>\n",
       "      <td>2016-06-24T15:09:57+09:00</td>\n",
       "      <td>odpt.Operator:Tokyu</td>\n",
       "      <td>28974</td>\n",
       "      <td>[odpt.Railway:Tokyu.Meguro]</td>\n",
       "      <td>[odpt.Station:Tokyu.Meguro.FudoMae]</td>\n",
       "      <td>2008</td>\n",
       "      <td>odpt.PassengerSurvey:Tokyu.FudoMae.2008</td>\n",
       "    </tr>\n",
       "    <tr>\n",
       "      <th>4</th>\n",
       "      <td>http://vocab.odpt.org/context_odpt.jsonld</td>\n",
       "      <td>urn:ucode:_00001C000000000000010000030E6651</td>\n",
       "      <td>odpt:PassengerSurvey</td>\n",
       "      <td>2016-06-24T15:09:57+09:00</td>\n",
       "      <td>odpt.Operator:Tokyu</td>\n",
       "      <td>6819</td>\n",
       "      <td>[odpt.Railway:Tokyu.Oimachi]</td>\n",
       "      <td>[odpt.Station:Tokyu.Oimachi.KitaSenzoku]</td>\n",
       "      <td>2008</td>\n",
       "      <td>odpt.PassengerSurvey:Tokyu.KitaSenzoku.2008</td>\n",
       "    </tr>\n",
       "  </tbody>\n",
       "</table>\n",
       "</div>"
      ],
      "text/plain": [
       "                                    @context  \\\n",
       "0  http://vocab.odpt.org/context_odpt.jsonld   \n",
       "1  http://vocab.odpt.org/context_odpt.jsonld   \n",
       "2  http://vocab.odpt.org/context_odpt.jsonld   \n",
       "3  http://vocab.odpt.org/context_odpt.jsonld   \n",
       "4  http://vocab.odpt.org/context_odpt.jsonld   \n",
       "\n",
       "                                           @id                 @type  \\\n",
       "0  urn:ucode:_00001C000000000000010000030E6637  odpt:PassengerSurvey   \n",
       "1  urn:ucode:_00001C000000000000010000030E6638  odpt:PassengerSurvey   \n",
       "2  urn:ucode:_00001C000000000000010000030E663A  odpt:PassengerSurvey   \n",
       "3  urn:ucode:_00001C000000000000010000030E663C  odpt:PassengerSurvey   \n",
       "4  urn:ucode:_00001C000000000000010000030E6651  odpt:PassengerSurvey   \n",
       "\n",
       "                     dc:date        odpt:operator  odpt:passengerJourneys  \\\n",
       "0  2016-06-24T15:09:57+09:00  odpt.Operator:Tokyu                   99302   \n",
       "1  2016-06-24T15:09:57+09:00  odpt.Operator:Tokyu                  127268   \n",
       "2  2016-06-24T15:09:57+09:00  odpt.Operator:Tokyu                   13078   \n",
       "3  2016-06-24T15:09:57+09:00  odpt.Operator:Tokyu                   28974   \n",
       "4  2016-06-24T15:09:57+09:00  odpt.Operator:Tokyu                    6819   \n",
       "\n",
       "                   odpt:railway                                 odpt:station  \\\n",
       "0   [odpt.Railway:Tokyu.Toyoko]       [odpt.Station:Tokyu.Toyoko.Tsunashima]   \n",
       "1   [odpt.Railway:Tokyu.Toyoko]           [odpt.Station:Tokyu.Toyoko.Kikuna]   \n",
       "2   [odpt.Railway:Tokyu.Toyoko]  [odpt.Station:Tokyu.Toyoko.HigashiHakuraku]   \n",
       "3   [odpt.Railway:Tokyu.Meguro]          [odpt.Station:Tokyu.Meguro.FudoMae]   \n",
       "4  [odpt.Railway:Tokyu.Oimachi]     [odpt.Station:Tokyu.Oimachi.KitaSenzoku]   \n",
       "\n",
       "   odpt:surveyYear                                       owl:sameAs  \n",
       "0             2008       odpt.PassengerSurvey:Tokyu.Tsunashima.2008  \n",
       "1             2008           odpt.PassengerSurvey:Tokyu.Kikuna.2008  \n",
       "2             2008  odpt.PassengerSurvey:Tokyu.HigashiHakuraku.2008  \n",
       "3             2008          odpt.PassengerSurvey:Tokyu.FudoMae.2008  \n",
       "4             2008      odpt.PassengerSurvey:Tokyu.KitaSenzoku.2008  "
      ]
     },
     "execution_count": 112,
     "metadata": {},
     "output_type": "execute_result"
    }
   ],
   "source": [
    "data = response.json()\n",
    "pd.DataFrame(data).head()"
   ]
  },
  {
   "cell_type": "code",
   "execution_count": 88,
   "metadata": {
    "collapsed": false
   },
   "outputs": [
    {
     "data": {
      "text/plain": [
       "200"
      ]
     },
     "execution_count": 88,
     "metadata": {},
     "output_type": "execute_result"
    }
   ],
   "source": [
    "response.status_code"
   ]
  },
  {
   "cell_type": "code",
   "execution_count": 89,
   "metadata": {
    "collapsed": false
   },
   "outputs": [
    {
     "data": {
      "text/plain": [
       "[]"
      ]
     },
     "execution_count": 89,
     "metadata": {},
     "output_type": "execute_result"
    }
   ],
   "source": [
    "data"
   ]
  },
  {
   "cell_type": "code",
   "execution_count": null,
   "metadata": {
    "collapsed": true
   },
   "outputs": [],
   "source": []
  }
 ],
 "metadata": {
  "anaconda-cloud": {},
  "kernelspec": {
   "display_name": "Python [conda env:py3]",
   "language": "python",
   "name": "conda-env-py3-py"
  },
  "language_info": {
   "codemirror_mode": {
    "name": "ipython",
    "version": 3
   },
   "file_extension": ".py",
   "mimetype": "text/x-python",
   "name": "python",
   "nbconvert_exporter": "python",
   "pygments_lexer": "ipython3",
   "version": "3.5.2"
  }
 },
 "nbformat": 4,
 "nbformat_minor": 1
}
